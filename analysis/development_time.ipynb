{
 "cells": [
  {
   "cell_type": "code",
   "execution_count": 4,
   "metadata": {},
   "outputs": [],
   "source": [
    "import pandas as pd\n",
    "import numpy as np\n",
    "import matplotlib.pyplot as plt\n",
    "import matplotlib.dates as mdates\n",
    "import matplotlib.ticker as ticker\n"
   ]
  },
  {
   "cell_type": "code",
   "execution_count": 15,
   "metadata": {},
   "outputs": [],
   "source": [
    "def start_plot():\n",
    "    fig, ax = plt.subplots()\n",
    "    return (fig, ax)\n",
    "\n",
    "def parse_duration(hhmmss):\n",
    "    h, m, s = hhmmss.split(':')\n",
    "    return np.timedelta64(int(h), 'h') + np.timedelta64(int(m), 'm') + np.timedelta64(int(s), 's')\n",
    "\n",
    "def parse_high_description(desc):\n",
    "    if desc.startswith('Serverless'):\n",
    "        return 'Serverless'\n",
    "    if desc.startswith('Spring'):\n",
    "        return 'Spring'\n",
    "    return desc    \n"
   ]
  },
  {
   "cell_type": "code",
   "execution_count": 17,
   "metadata": {},
   "outputs": [
    {
     "data": {
      "text/plain": [
       "HighDescription\n",
       "Dev setup                                 0 days 02:50:54\n",
       "High-level design                         0 days 13:27:15\n",
       "High-level thinking                       0 days 01:17:41\n",
       "High-level thinking - design load tests   0 days 01:21:33\n",
       "Literature                                0 days 10:56:43\n",
       "Load tests - EC2 deployment               0 days 03:40:53\n",
       "Load tests - analysis                     0 days 15:20:19\n",
       "Load tests - fixing                       0 days 02:45:40\n",
       "Load tests - implementation               0 days 10:36:35\n",
       "Load tests - writing                      0 days 03:11:37\n",
       "Serverless                                0 days 22:46:33\n",
       "Service tests                             0 days 02:24:43\n",
       "Service tests + SQL Database Model        0 days 05:34:13\n",
       "Spring                                    0 days 08:41:10\n",
       "Name: Duration, dtype: timedelta64[ns]"
      ]
     },
     "execution_count": 17,
     "metadata": {},
     "output_type": "execute_result"
    }
   ],
   "source": [
    "df = pd.read_csv('toggl-entries-2022-12-29.csv')\n",
    "df['Duration'] = df['Duration'].apply(parse_duration)\n",
    "df['HighDescription'] = df['Description'].apply(parse_high_description)"
   ]
  },
  {
   "cell_type": "code",
   "execution_count": 19,
   "metadata": {},
   "outputs": [
    {
     "data": {
      "text/plain": [
       "Description\n",
       "Dev setup                                                        0 days 02:50:54\n",
       "High-level design                                                0 days 13:27:15\n",
       "High-level thinking                                              0 days 01:17:41\n",
       "High-level thinking - design load tests                          0 days 01:21:33\n",
       "Literature                                                       0 days 10:56:43\n",
       "Load tests - EC2 deployment                                      0 days 03:40:53\n",
       "Load tests - analysis                                            0 days 15:20:19\n",
       "Load tests - fixing                                              0 days 02:45:40\n",
       "Load tests - implementation                                      0 days 10:36:35\n",
       "Load tests - writing                                             0 days 03:11:37\n",
       "Serverless API - OpenAPI + API Gateway                           0 days 03:44:32\n",
       "Serverless API - aurora setup                                    0 days 03:00:32\n",
       "Serverless API - deployment                                      0 days 00:47:51\n",
       "Serverless API - high-level thinking                             0 days 01:52:35\n",
       "Serverless API - implementation                                  0 days 08:48:12\n",
       "Serverless API - integration tests                               0 days 01:02:20\n",
       "Serverless API - jooq configuration                              0 days 01:26:19\n",
       "Serverless API - project setup                                   0 days 02:04:12\n",
       "Service tests                                                    0 days 02:24:43\n",
       "Service tests + SQL Database Model                               0 days 05:34:13\n",
       "Spring API - Models Controller                                   0 days 02:46:35\n",
       "Spring API - Photos Controller                                   0 days 03:29:23\n",
       "Spring API - connect openapi                                     0 days 00:48:33\n",
       "Spring API - first operation - list models from the DB           0 days 01:01:39\n",
       "Spring API - project setup - running and can start development   0 days 00:08:11\n",
       "Spring API - service tests                                       0 days 00:26:49\n",
       "Name: Duration, dtype: timedelta64[ns]"
      ]
     },
     "execution_count": 19,
     "metadata": {},
     "output_type": "execute_result"
    }
   ],
   "source": [
    "df.groupby('Description')['Duration'].sum()"
   ]
  },
  {
   "cell_type": "code",
   "execution_count": 20,
   "metadata": {},
   "outputs": [
    {
     "data": {
      "text/plain": [
       "HighDescription\n",
       "Dev setup                                 0 days 02:50:54\n",
       "High-level design                         0 days 13:27:15\n",
       "High-level thinking                       0 days 01:17:41\n",
       "High-level thinking - design load tests   0 days 01:21:33\n",
       "Literature                                0 days 10:56:43\n",
       "Load tests - EC2 deployment               0 days 03:40:53\n",
       "Load tests - analysis                     0 days 15:20:19\n",
       "Load tests - fixing                       0 days 02:45:40\n",
       "Load tests - implementation               0 days 10:36:35\n",
       "Load tests - writing                      0 days 03:11:37\n",
       "Serverless                                0 days 22:46:33\n",
       "Service tests                             0 days 02:24:43\n",
       "Service tests + SQL Database Model        0 days 05:34:13\n",
       "Spring                                    0 days 08:41:10\n",
       "Name: Duration, dtype: timedelta64[ns]"
      ]
     },
     "execution_count": 20,
     "metadata": {},
     "output_type": "execute_result"
    }
   ],
   "source": [
    "df.groupby('HighDescription')['Duration'].sum()"
   ]
  }
 ],
 "metadata": {
  "kernelspec": {
   "display_name": "Python 3 (ipykernel)",
   "language": "python",
   "name": "python3"
  },
  "language_info": {
   "codemirror_mode": {
    "name": "ipython",
    "version": 3
   },
   "file_extension": ".py",
   "mimetype": "text/x-python",
   "name": "python",
   "nbconvert_exporter": "python",
   "pygments_lexer": "ipython3",
   "version": "3.10.6"
  },
  "vscode": {
   "interpreter": {
    "hash": "31f2aee4e71d21fbe5cf8b01ff0e069b9275f58929596ceb00d14d90e3e16cd6"
   }
  }
 },
 "nbformat": 4,
 "nbformat_minor": 4
}
